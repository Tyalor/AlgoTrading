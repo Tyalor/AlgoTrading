{
 "cells": [
  {
   "cell_type": "code",
   "execution_count": 27,
   "id": "a38ef0d0-4b83-4fa0-a686-bae71deb4ada",
   "metadata": {},
   "outputs": [
    {
     "data": {
      "text/plain": [
       "True"
      ]
     },
     "execution_count": 27,
     "metadata": {},
     "output_type": "execute_result"
    }
   ],
   "source": [
    "import os\n",
    "from dotenv import load_dotenv\n",
    "\n",
    "# Load environment variables from .env file\n",
    "dotenv_path = '../.env'  # Replace with the correct path to your .env file\n",
    "load_dotenv(dotenv_path)"
   ]
  },
  {
   "cell_type": "code",
   "execution_count": 37,
   "id": "dc798abb-618b-42ff-a245-d92998fd7288",
   "metadata": {},
   "outputs": [],
   "source": [
    "import requests\n",
    "import os\n",
    "import matplotlib.pyplot as plt\n",
    "\n",
    "\n",
    "base_url = f'https://api.polygon.io/v3/snapshot/options/{ticker}?apiKey={os.getenv(\"API_KEY\")}'\n",
    "def fetch_options_data(ticker):\n",
    "    options_data = []\n",
    "\n",
    "    while base_url:\n",
    "        response = requests.get(base_url)\n",
    "        if response.status_code == 200:\n",
    "            data = response.json()\n",
    "            options_data.extend(data['results'])\n",
    "            base_url = data.get('next_url')\n",
    "            print(base_url)\n",
    "        else:\n",
    "            print(\n",
    "                f\"Failed to fetch options data: {response.status_code} - {response.text}\")\n",
    "            return None\n",
    "\n",
    "    return options_data\n",
    "\n",
    "# print(base_url)\n",
    "\n",
    "# print(options_data)\n"
   ]
  },
  {
   "cell_type": "code",
   "execution_count": null,
   "id": "0d728985-eefe-4c7b-9dca-f61fb05ebc93",
   "metadata": {
    "scrolled": true
   },
   "outputs": [],
   "source": [
    "# The following code is only executed if options_data is not None\n",
    "# it's showing the data in a plot\n",
    "options_data['results']\n",
    "\n",
    "if options_data is not None and 'results' in options_data:\n",
    "    # Extract relevant data\n",
    "    strikes = []\n",
    "    open_interests = []\n",
    "    volumes = []\n",
    "    for option in options_data['results']:\n",
    "        strike_price = option['details']['strike_price']\n",
    "        open_interest = option['open_interest']\n",
    "        volume = option['day']['volume']\n",
    "        strikes.append(strike_price)\n",
    "        open_interests.append(open_interest)\n",
    "        volumes.append(volume)\n",
    "\n",
    "    # Create plot\n",
    "    plt.figure(figsize=(10, 6))\n",
    "    plt.plot(strikes, open_interests, label='Open Interest')\n",
    "    plt.plot(strikes, volumes, label='Volume')\n",
    "    plt.xlabel('Strike Price')\n",
    "    plt.ylabel('Count')\n",
    "    plt.title(f'Options Data for {ticker}')\n",
    "    plt.legend()\n",
    "    plt.grid(True)\n",
    "    plt.show()\n",
    "else:\n",
    "    print(\"No options data fetched.\")\n"
   ]
  },
  {
   "cell_type": "code",
   "execution_count": 22,
   "id": "95922b5b-0372-42c3-9bbd-4f29be121da1",
   "metadata": {
    "scrolled": true
   },
   "outputs": [
    {
     "data": {
      "image/png": "[encoded data removed]",
      "text/plain": [
       "<Figure size 640x480 with 1 Axes>"
      ]
     },
     "metadata": {},
     "output_type": "display_data"
    }
   ],
   "source": [
    "if options_data:\n",
    "    # Count the number of put and call options\n",
    "    put_count = 0\n",
    "    call_count = 0\n",
    "    for result in options_data['results']:\n",
    "        if result['details']['contract_type'] == 'put':\n",
    "            put_count += 1\n",
    "        elif result['details']['contract_type'] == 'call':\n",
    "            call_count += 1\n",
    "    \n",
    "    # Calculate the put-to-call ratio\n",
    "    put_to_call_ratio = put_count / call_count\n",
    "\n",
    "    # Create a pie chart\n",
    "    labels = ['Put Options', 'Call Options']\n",
    "    sizes = [put_count, call_count]\n",
    "    colors = ['red', 'green']\n",
    "    explode = (0.1, 0)  # Explode the \"Put Options\" slice\n",
    "    plt.pie(sizes, explode=explode, labels=labels, colors=colors, autopct='%1.1f%%', startangle=90)\n",
    "    plt.axis('equal')  # Equal aspect ratio ensures a circular pie chart\n",
    "    plt.title(f'Put-to-Call Ratio: {put_to_call_ratio:.2f}')\n",
    "    plt.show()\n",
    "else:\n",
    "    print(\"No options data fetched.\")\n"
   ]
  },
  {
   "cell_type": "code",
   "execution_count": null,
   "id": "f48812e7-4c22-4eca-a6f6-c6672a403d34",
   "metadata": {},
   "outputs": [],
   "source": []
  }
 ],
 "metadata": {
  "kernelspec": {
   "display_name": "Python 3 (ipykernel)",
   "language": "python",
   "name": "python3"
  },
  "language_info": {
   "codemirror_mode": {
    "name": "ipython",
    "version": 3
   },
   "file_extension": ".py",
   "mimetype": "text/x-python",
   "name": "python",
   "nbconvert_exporter": "python",
   "pygments_lexer": "ipython3",
   "version": "3.11.3"
  }
 },
 "nbformat": 4,
 "nbformat_minor": 5
}
