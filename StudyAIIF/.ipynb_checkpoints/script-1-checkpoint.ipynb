{
 "cells": [
  {
   "cell_type": "code",
   "execution_count": 1,
   "id": "6664e2ba-411f-46b9-8e8f-6572d929d470",
   "metadata": {
    "tags": []
   },
   "outputs": [],
   "source": [
    "import requests\n",
    "import json"
   ]
  },
  {
   "cell_type": "code",
   "execution_count": null,
   "id": "8426180a-1773-4092-8b04-26a83984c425",
   "metadata": {},
   "outputs": [],
   "source": [
    "api_key='tsvwdk7RYQVSAAtxU7Yg8ZUUnspu4dBb'"
   ]
  }
 ],
 "metadata": {
  "kernelspec": {
   "display_name": "Python 3 (ipykernel)",
   "language": "python",
   "name": "python3"
  },
  "language_info": {
   "codemirror_mode": {
    "name": "ipython",
    "version": 3
   },
   "file_extension": ".py",
   "mimetype": "text/x-python",
   "name": "python",
   "nbconvert_exporter": "python",
   "pygments_lexer": "ipython3",
   "version": "3.11.2"
  }
 },
 "nbformat": 4,
 "nbformat_minor": 5
}
