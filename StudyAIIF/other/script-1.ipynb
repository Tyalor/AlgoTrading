{
 "cells": [
  {
   "cell_type": "code",
   "execution_count": null,
   "id": "6664e2ba-411f-46b9-8e8f-6572d929d470",
   "metadata": {
    "tags": []
   },
   "outputs": [],
   "source": [
    "import requests\n",
    "import json"
   ]
  },
  {
   "cell_type": "code",
   "execution_count": null,
   "id": "8426180a-1773-4092-8b04-26a83984c425",
   "metadata": {
    "tags": []
   },
   "outputs": [],
   "source": [
    "api_key='tsvwdk7RYQVSAAtxU7Yg8ZUUnspu4dBb'"
   ]
  },
  {
   "cell_type": "code",
   "execution_count": 3,
   "id": "113c97d3-e3a2-48fd-91e4-2b07111a61b3",
   "metadata": {
    "tags": []
   },
   "outputs": [
    {
     "name": "stdout",
     "output_type": "stream",
     "text": [
      "{\n",
      "    \"logo\": \"https://s3.polygon.io/logos/aapl/logo.png\",\n",
      "    \"listdate\": \"1990-01-02\",\n",
      "    \"cik\": \"320193\",\n",
      "    \"bloomberg\": \"EQ0010169500001000\",\n",
      "    \"figi\": null,\n",
      "    \"lei\": \"HWUPKR0MPOU8FGXBT394\",\n",
      "    \"sic\": 3571,\n",
      "    \"country\": \"usa\",\n",
      "    \"industry\": \"Computer Hardware\",\n",
      "    \"sector\": \"Technology\",\n",
      "    \"marketcap\": 908316631180,\n",
      "    \"employees\": 123000,\n",
      "    \"phone\": \"+1 408 996-1010\",\n",
      "    \"ceo\": \"Timothy D. Cook\",\n",
      "    \"url\": \"http://www.apple.com\",\n",
      "    \"description\": \"Apple Inc is designs, manufactures and markets mobile communication and media devices and personal computers, and sells a variety of related software, services, accessories, networking solutions and third-party digital content and applications.\",\n",
      "    \"exchange\": \"Nasdaq Global Select\",\n",
      "    \"name\": \"Apple Inc.\",\n",
      "    \"symbol\": \"AAPL\",\n",
      "    \"exchangeSymbol\": \"NGS\",\n",
      "    \"hq_address\": \"1 Infinite Loop Cupertino CA, 95014\",\n",
      "    \"hq_state\": \"CA\",\n",
      "    \"hq_country\": \"USA\",\n",
      "    \"type\": \"CS\",\n",
      "    \"updated\": \"11/16/2018\",\n",
      "    \"tags\": [\n",
      "        \"Technology\",\n",
      "        \"Consumer Electronics\",\n",
      "        \"Computer Hardware\"\n",
      "    ],\n",
      "    \"similar\": [\n",
      "        \"MSFT\",\n",
      "        \"NOK\",\n",
      "        \"IBM\",\n",
      "        \"HPQ\",\n",
      "        \"GOOGL\",\n",
      "        \"BB\",\n",
      "        \"XLK\"\n",
      "    ],\n",
      "    \"active\": true\n",
      "}\n"
     ]
    }
   ],
   "source": [
    "url = f\"https://api.polygon.io/v1/meta/symbols/AAPL/company?apiKey={api_key}\"\n",
    "response = requests.get(url)\n",
    "data = response.json()\n",
    "print(json.dumps(data, indent=4))\n"
   ]
  },
  {
   "cell_type": "code",
   "execution_count": null,
   "id": "5e448feb-e537-4501-8d4c-692e3459da32",
   "metadata": {},
   "outputs": [],
   "source": []
  }
 ],
 "metadata": {
  "kernelspec": {
   "display_name": "Python 3 (ipykernel)",
   "language": "python",
   "name": "python3"
  },
  "language_info": {
   "codemirror_mode": {
    "name": "ipython",
    "version": 3
   },
   "file_extension": ".py",
   "mimetype": "text/x-python",
   "name": "python",
   "nbconvert_exporter": "python",
   "pygments_lexer": "ipython3",
   "version": "3.11.2"
  }
 },
 "nbformat": 4,
 "nbformat_minor": 5
}
